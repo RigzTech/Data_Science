{
 "cells": [
  {
   "cell_type": "markdown",
   "id": "a210ac91",
   "metadata": {},
   "source": [
    "# NumPY"
   ]
  },
  {
   "cell_type": "code",
   "execution_count": 50,
   "id": "44f79db0",
   "metadata": {},
   "outputs": [],
   "source": [
    "import numpy as np"
   ]
  },
  {
   "cell_type": "code",
   "execution_count": 51,
   "id": "e542c6dc",
   "metadata": {},
   "outputs": [
    {
     "name": "stdout",
     "output_type": "stream",
     "text": [
      "1.26.4\n"
     ]
    }
   ],
   "source": [
    "print(np.__version__)"
   ]
  },
  {
   "cell_type": "markdown",
   "id": "fb1d5042",
   "metadata": {},
   "source": [
    "# Creating NumPy Arrays( 1D, 2D, and 3D)"
   ]
  },
  {
   "cell_type": "code",
   "execution_count": 5,
   "id": "4f2bf531",
   "metadata": {},
   "outputs": [
    {
     "name": "stdout",
     "output_type": "stream",
     "text": [
      "1D array: [1 2 3 4 5]\n"
     ]
    }
   ],
   "source": [
    "import numpy as np\n",
    "\n",
    "#creating a 1D array from a list\n",
    "array_1d = np.array([1,2,3,4,5])\n",
    "print(\"1D array:\", array_1d)"
   ]
  },
  {
   "cell_type": "code",
   "execution_count": 6,
   "id": "21214fc4",
   "metadata": {},
   "outputs": [
    {
     "name": "stdout",
     "output_type": "stream",
     "text": [
      "2D array:\n",
      " [[1 2 3]\n",
      " [4 5 6]\n",
      " [7 8 9]]\n"
     ]
    }
   ],
   "source": [
    "#creating a 2D array (Matrix) from a nested list\n",
    "array_2d = np.array([[1,2,3], [4,5,6], [7,8,9]])\n",
    "print(\"2D array:\\n\", array_2d)"
   ]
  },
  {
   "cell_type": "code",
   "execution_count": 7,
   "id": "80d7c465",
   "metadata": {},
   "outputs": [
    {
     "name": "stdout",
     "output_type": "stream",
     "text": [
      "3D array:\n",
      " [[[1 2]\n",
      "  [3 4]]\n",
      "\n",
      " [[5 6]\n",
      "  [7 8]]]\n"
     ]
    }
   ],
   "source": [
    "#creating a 3D array (tensor) from a nested list\n",
    "array_3d = np.array([[[1,2], [3,4]],[[5,6],[7,8]]])\n",
    "print(\"3D array:\\n\", array_3d)"
   ]
  },
  {
   "cell_type": "markdown",
   "id": "68ca7f49",
   "metadata": {},
   "source": [
    "# Array Attributes (shape, size, dtype)"
   ]
  },
  {
   "cell_type": "markdown",
   "id": "03efd330",
   "metadata": {},
   "source": [
    "shape: the dimentions of the array ie 1d, 2d, 3d\n",
    "\n",
    "\n",
    "size: the total number of elements in the array\n",
    "\n",
    "\n",
    "dtype: the data type of the elements in the array"
   ]
  },
  {
   "cell_type": "code",
   "execution_count": 8,
   "id": "60782568",
   "metadata": {},
   "outputs": [
    {
     "name": "stdout",
     "output_type": "stream",
     "text": [
      "shape: (3, 3)\n",
      "size: 9\n",
      "data types: int32\n"
     ]
    }
   ],
   "source": [
    "print(\"shape:\", array_2d.shape)\n",
    "print(\"size:\", array_2d.size)\n",
    "print(\"data types:\", array_2d.dtype)"
   ]
  },
  {
   "cell_type": "markdown",
   "id": "83247543",
   "metadata": {},
   "source": [
    "# Indexing and Slicing Arrays"
   ]
  },
  {
   "cell_type": "code",
   "execution_count": 9,
   "id": "1aad3d25",
   "metadata": {},
   "outputs": [
    {
     "name": "stdout",
     "output_type": "stream",
     "text": [
      "1D array: [1 2 3 4 5]\n",
      "1\n",
      "5\n",
      "[2 3 4]\n"
     ]
    }
   ],
   "source": [
    "#Creating a 1D array from a list\n",
    "array_1d = np.array([1,2,3,4,5])\n",
    "print(\"1D array:\", array_1d)\n",
    "\n",
    "#indexng a 1d array\n",
    "print(array_1d[0])\n",
    "\n",
    "print (array_1d[-1])\n",
    "\n",
    "#slicing a 1D array\n",
    "print(array_1d[1:4])"
   ]
  },
  {
   "cell_type": "code",
   "execution_count": 11,
   "id": "2b7cf4c1",
   "metadata": {},
   "outputs": [
    {
     "name": "stdout",
     "output_type": "stream",
     "text": [
      "2D array:\n",
      " [[1 2 3]\n",
      " [4 5 6]\n",
      " [7 8 9]]\n",
      "6\n",
      "[[2 3]\n",
      " [5 6]]\n"
     ]
    }
   ],
   "source": [
    "array_2d =np.array([[1,2,3], [4,5,6], [7,8,9]])\n",
    "print(\"2D array:\\n\", array_2d)\n",
    "\n",
    "#Indexing a 2d array\n",
    "print(array_2d[1, 2])\n",
    "\n",
    "#slicing a 2D array\n",
    "print(array_2d[0:2, 1:])"
   ]
  },
  {
   "cell_type": "markdown",
   "id": "8b09ba8f",
   "metadata": {},
   "source": [
    "# Reshaping and Flattening Arrays"
   ]
  },
  {
   "cell_type": "code",
   "execution_count": 12,
   "id": "60c2d91e",
   "metadata": {},
   "outputs": [
    {
     "name": "stdout",
     "output_type": "stream",
     "text": [
      "reshaped array:\n",
      " [[1]\n",
      " [2]\n",
      " [3]\n",
      " [4]\n",
      " [5]]\n"
     ]
    }
   ],
   "source": [
    "#Reshape a 1d array to a 2D array\n",
    "reshaped_array = array_1d.reshape(5, 1)\n",
    "print(\"reshaped array:\\n\", reshaped_array)"
   ]
  },
  {
   "cell_type": "code",
   "execution_count": 13,
   "id": "56947857",
   "metadata": {},
   "outputs": [
    {
     "name": "stdout",
     "output_type": "stream",
     "text": [
      "flattened array: [1 2 3 4 5 6 7 8 9]\n",
      "Flattened array using ravel: [1 2 3 4 5 6 7 8 9]\n"
     ]
    }
   ],
   "source": [
    "#Flattening a 2D array\n",
    "flattened_array = array_2d.flatten()\n",
    "print(\"flattened array:\", flattened_array)\n",
    "\n",
    "#Alternatively, use the ravel function\n",
    "flattened_array = np.ravel(array_2d)\n",
    "print(\"Flattened array using ravel:\", flattened_array)"
   ]
  },
  {
   "cell_type": "markdown",
   "id": "17b0cc02",
   "metadata": {},
   "source": [
    "# Array Operations"
   ]
  },
  {
   "cell_type": "code",
   "execution_count": 14,
   "id": "d5d7c8da",
   "metadata": {},
   "outputs": [
    {
     "name": "stdout",
     "output_type": "stream",
     "text": [
      "addition: [5 7 9]\n",
      "subtraction: [-3 -3 -3]\n",
      "multiplication: [ 4 10 18]\n",
      "division: [0.25 0.4  0.5 ]\n"
     ]
    }
   ],
   "source": [
    "import numpy as np\n",
    "\n",
    "a = np.array([1,2,3])\n",
    "b = np.array([4,5,6])\n",
    "\n",
    "addition = a + b\n",
    "print(\"addition:\", addition)\n",
    "\n",
    "subtraction = a - b\n",
    "print(\"subtraction:\", subtraction)\n",
    "\n",
    "multiplication = a * b\n",
    "print(\"multiplication:\", multiplication)\n",
    "\n",
    "division = a / b\n",
    "print(\"division:\", division)"
   ]
  },
  {
   "cell_type": "markdown",
   "id": "f1d153de",
   "metadata": {},
   "source": [
    "# Broadcasting"
   ]
  },
  {
   "cell_type": "markdown",
   "id": "ede81ef9",
   "metadata": {},
   "source": [
    "Allows you to perform arithmatic operations on arrays of different shapes, as long as they are compartible.\n",
    "\n",
    "Broadcasting rules:\n",
    "    If an array have a different number of dimensions, the smaller shape is padded with one on its left side\n",
    "    if the shape of the arrays does not match in any diemension, numpy tries to streatch the dimensions with size 1 to match the other array size in the dimension\n",
    "    if any dimension size still do not match, a broadcasting error is raised"
   ]
  },
  {
   "cell_type": "code",
   "execution_count": 16,
   "id": "d3f34b35",
   "metadata": {},
   "outputs": [
    {
     "name": "stdout",
     "output_type": "stream",
     "text": [
      "Broadcast sum: \n",
      " [[ 2  2  4]\n",
      " [ 5  5  7]\n",
      " [ 8  8 10]]\n"
     ]
    }
   ],
   "source": [
    "c = np.array([[1,2,3], [4,5,6], [7,8,9]])\n",
    "d = np.array([1,0,1])\n",
    "\n",
    "broadcasted_sum = c + d\n",
    "print(\"Broadcast sum: \\n\", broadcasted_sum)"
   ]
  },
  {
   "cell_type": "code",
   "execution_count": 18,
   "id": "7635f9bd",
   "metadata": {},
   "outputs": [
    {
     "name": "stdout",
     "output_type": "stream",
     "text": [
      "Broadcast product: \n",
      " [[1 0 3]\n",
      " [4 0 6]\n",
      " [7 0 9]]\n"
     ]
    }
   ],
   "source": [
    "c = np.array([[1,2,3], [4,5,6], [7,8,9]])\n",
    "d = np.array([1,0,1])\n",
    "\n",
    "broadcasted_product = c * d\n",
    "print(\"Broadcast product: \\n\", broadcasted_product)"
   ]
  },
  {
   "cell_type": "markdown",
   "id": "1d9ad8bc",
   "metadata": {},
   "source": [
    "# Element_wise Operation"
   ]
  },
  {
   "cell_type": "code",
   "execution_count": 19,
   "id": "3e113b11",
   "metadata": {},
   "outputs": [
    {
     "name": "stdout",
     "output_type": "stream",
     "text": [
      "Square root: [1.         1.41421356 1.73205081]\n",
      "Natural algorithm: [0.         0.69314718 1.09861229]\n",
      "Sine: [0.84147098 0.90929743 0.14112001]\n",
      "cosine: [ 0.54030231 -0.41614684 -0.9899925 ]\n"
     ]
    }
   ],
   "source": [
    "#square root\n",
    "sqrt_array = np.sqrt(a)\n",
    "print(\"Square root:\", sqrt_array)\n",
    "\n",
    "#Logarithm\n",
    "log_array = np.log(a)\n",
    "print(\"Natural algorithm:\", log_array)\n",
    "\n",
    "#Sine\n",
    "sin_array = np.sin(a)\n",
    "print(\"Sine:\", sin_array)\n",
    "\n",
    "#cosine\n",
    "cos_array = np.cos(a)\n",
    "print(\"cosine:\", cos_array)"
   ]
  },
  {
   "cell_type": "markdown",
   "id": "975511b1",
   "metadata": {},
   "source": [
    "# Statistical Functions"
   ]
  },
  {
   "cell_type": "code",
   "execution_count": 20,
   "id": "61aa4ae6",
   "metadata": {},
   "outputs": [],
   "source": [
    "import numpy as np\n",
    "data = np.array([4,5,1,2,7,2,6,3,5,2])"
   ]
  },
  {
   "cell_type": "code",
   "execution_count": 21,
   "id": "0e8c26ea",
   "metadata": {},
   "outputs": [
    {
     "name": "stdout",
     "output_type": "stream",
     "text": [
      "Mean: 3.7\n",
      "median: 3.5\n"
     ]
    }
   ],
   "source": [
    "#Mean\n",
    "mean = np.mean(data)\n",
    "print(\"Mean:\", mean)\n",
    "\n",
    "#Median\n",
    "median = np.median(data)\n",
    "print(\"median:\", median)"
   ]
  },
  {
   "cell_type": "code",
   "execution_count": 28,
   "id": "1cc2fe96",
   "metadata": {
    "scrolled": true
   },
   "outputs": [
    {
     "name": "stdout",
     "output_type": "stream",
     "text": [
      "Mode: 2 Frequency: 3\n"
     ]
    }
   ],
   "source": [
    "#Mode\n",
    "from scipy import stats\n",
    "\n",
    "mode = stats.mode(data)\n",
    "print(\"Mode:\", mode.mode, \"Frequency:\", mode.count)\n"
   ]
  },
  {
   "cell_type": "code",
   "execution_count": 29,
   "id": "c83e3c15",
   "metadata": {},
   "outputs": [
    {
     "name": "stdout",
     "output_type": "stream",
     "text": [
      "Variance: 3.6100000000000003\n"
     ]
    }
   ],
   "source": [
    "#Variance\n",
    "variance = np.var(data)\n",
    "print(\"Variance:\", variance)"
   ]
  },
  {
   "cell_type": "code",
   "execution_count": 30,
   "id": "06c5ee9b",
   "metadata": {},
   "outputs": [
    {
     "name": "stdout",
     "output_type": "stream",
     "text": [
      "Statand Deviation: 1.9000000000000001\n"
     ]
    }
   ],
   "source": [
    "#Stansard Deviation\n",
    "std_dev = np.std(data)\n",
    "print(\"Statand Deviation:\", std_dev)"
   ]
  },
  {
   "cell_type": "markdown",
   "id": "8209da1b",
   "metadata": {},
   "source": [
    "# Random Number Generation"
   ]
  },
  {
   "cell_type": "markdown",
   "id": "4c447b78",
   "metadata": {},
   "source": [
    " Uniform distribution"
   ]
  },
  {
   "cell_type": "code",
   "execution_count": 34,
   "id": "7f4c2a8f",
   "metadata": {},
   "outputs": [
    {
     "name": "stdout",
     "output_type": "stream",
     "text": [
      "uniform random number: 0.9086266588043288\n",
      "uniform random array: [0.83495843 0.79412829 0.94017403 0.73606334 0.35388836]\n",
      "custom uniform random array: [8.75511548 8.27126325 6.21585013 9.15309522 5.04056415]\n"
     ]
    }
   ],
   "source": [
    "#Generate a single random number between 0 and 1\n",
    "uniform_random = np.random.rand()\n",
    "print(\"uniform random number:\", uniform_random)\n",
    "\n",
    "#Generating an array of random numbers from a uniform distribution\n",
    "uniform_array = np.random.rand(5)\n",
    "print(\"uniform random array:\", uniform_array)\n",
    "\n",
    "#Generate random numbers between a custom range\n",
    "custom_uniform_array = np.random.uniform(5, 10, size=5)\n",
    "print(\"custom uniform random array:\", custom_uniform_array)"
   ]
  },
  {
   "cell_type": "markdown",
   "id": "b2d11898",
   "metadata": {},
   "source": [
    "    Normal Distribution\n",
    "    - To generate random numbers from a normal distribution, use np.random.randn for a standard normal distribution(mean 0, standard deviation 1), or np.random.normal for a custom distribution"
   ]
  },
  {
   "cell_type": "code",
   "execution_count": 36,
   "id": "f59e7815",
   "metadata": {},
   "outputs": [
    {
     "name": "stdout",
     "output_type": "stream",
     "text": [
      "Normal random number: -0.06146237668654141\n",
      "Normal random array: [-0.09243329 -1.20297926  0.52792877  0.53006405  0.19285245]\n",
      "Custom normal random array: [0.42338776 5.23635824 3.87399092 7.53608748 6.43077983]\n"
     ]
    }
   ],
   "source": [
    "#Generate a single random number from a standard normal distribution\n",
    "normal_random = np.random.randn()\n",
    "print(\"Normal random number:\", normal_random)\n",
    "\n",
    "#Generate an array of random numbers from a standard normal distribution\n",
    "normal_array = np.random.randn(5)\n",
    "print(\"Normal random array:\", normal_array)\n",
    "\n",
    "#Generate a random number from a custom normal distribution(mean 5, standard deviation 2)\n",
    "custom_normal_array = np.random.normal(5, 2, size=5)\n",
    "print(\"Custom normal random array:\", custom_normal_array)"
   ]
  },
  {
   "cell_type": "code",
   "execution_count": null,
   "id": "391bdd14",
   "metadata": {},
   "outputs": [],
   "source": []
  },
  {
   "cell_type": "markdown",
   "id": "802a7114",
   "metadata": {},
   "source": [
    "Setting a random seed"
   ]
  },
  {
   "cell_type": "code",
   "execution_count": 37,
   "id": "971d081b",
   "metadata": {},
   "outputs": [
    {
     "name": "stdout",
     "output_type": "stream",
     "text": [
      "Random array with seed 42: [0.37454012 0.95071431 0.73199394 0.59865848 0.15601864]\n"
     ]
    }
   ],
   "source": [
    "np.random.seed(42)\n",
    "\n",
    "random_array = np.random.rand(5)\n",
    "print(\"Random array with seed 42:\", random_array)"
   ]
  },
  {
   "cell_type": "markdown",
   "id": "a488bd16",
   "metadata": {},
   "source": [
    "# Numpy Assignment and solutions"
   ]
  },
  {
   "cell_type": "code",
   "execution_count": 41,
   "id": "eb2220a3",
   "metadata": {},
   "outputs": [
    {
     "name": "stdout",
     "output_type": "stream",
     "text": [
      "Mean: 166.7\n",
      "Median: 166.5\n",
      "Std Deviation: 7.5372408744845085\n"
     ]
    }
   ],
   "source": [
    "#Calculate the mean, median and standard deviation of the students' heights\n",
    "height = np.array([160,155,172,165,180,158,175,163,171,168])\n",
    "\n",
    "mean = np.mean(height)\n",
    "print(\"Mean:\", mean)\n",
    "\n",
    "median = np.median(height)\n",
    "print(\"Median:\", median)\n",
    "\n",
    "std_dev = np.std(height)\n",
    "print(\"Std Deviation:\", std_dev)"
   ]
  },
  {
   "cell_type": "code",
   "execution_count": 45,
   "id": "7067852c",
   "metadata": {},
   "outputs": [
    {
     "name": "stdout",
     "output_type": "stream",
     "text": [
      "Normalized Heights: [-0.88891945 -1.55229217  0.70317509 -0.22554673  1.76457144 -1.15426854\n",
      "  1.10119872 -0.49089581  0.57050054  0.17247691]\n"
     ]
    }
   ],
   "source": [
    "#Create a new array with the heights normalized, i.e., each height value should be transformed to have a mean of 0 and a standard deviation of 1.\n",
    "normalized_heights = (height - mean) / std_dev\n",
    "print(\"Normalized Heights:\", normalized_heights)"
   ]
  },
  {
   "cell_type": "code",
   "execution_count": 47,
   "id": "26f42e84",
   "metadata": {},
   "outputs": [
    {
     "name": "stdout",
     "output_type": "stream",
     "text": [
      "tallest student: 4\n",
      "Shortest Student: 1\n"
     ]
    }
   ],
   "source": [
    "#Determine the tallest and the shortest student\n",
    "tallest = np.argmax(height)\n",
    "shortest = np.argmin(height)\n",
    "print(\"tallest student:\", tallest)\n",
    "print(\"Shortest Student:\", shortest)"
   ]
  },
  {
   "cell_type": "code",
   "execution_count": 48,
   "id": "78fd795d",
   "metadata": {},
   "outputs": [
    {
     "name": "stdout",
     "output_type": "stream",
     "text": [
      "Height Difference: 25\n"
     ]
    }
   ],
   "source": [
    "#Calculate the difference between the shortest and the tallest\n",
    "H_dif = height[tallest] - height[shortest]\n",
    "print(f\"Height Difference: {H_dif}\")"
   ]
  },
  {
   "cell_type": "code",
   "execution_count": 49,
   "id": "9b9ed481",
   "metadata": {},
   "outputs": [
    {
     "name": "stdout",
     "output_type": "stream",
     "text": [
      "Randomly selected heights: [171 155 158 160 163]\n"
     ]
    }
   ],
   "source": [
    "#Ramndomly select 5 heights from the dataset without replacement\n",
    "np.random.seed(42)\n",
    "random_selection = np.random.choice(height, size=5,replace=False)\n",
    "print(\"Randomly selected heights:\", random_selection)"
   ]
  },
  {
   "cell_type": "code",
   "execution_count": null,
   "id": "eef75352",
   "metadata": {},
   "outputs": [],
   "source": []
  }
 ],
 "metadata": {
  "kernelspec": {
   "display_name": "Python 3 (ipykernel)",
   "language": "python",
   "name": "python3"
  },
  "language_info": {
   "codemirror_mode": {
    "name": "ipython",
    "version": 3
   },
   "file_extension": ".py",
   "mimetype": "text/x-python",
   "name": "python",
   "nbconvert_exporter": "python",
   "pygments_lexer": "ipython3",
   "version": "3.11.4"
  }
 },
 "nbformat": 4,
 "nbformat_minor": 5
}
